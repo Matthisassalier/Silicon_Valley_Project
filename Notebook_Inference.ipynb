{
 "cells": [
  {
   "cell_type": "markdown",
   "id": "f827fdef",
   "metadata": {},
   "source": [
    "# Sommaire  \n",
    "* [Pvalue](#Pvalue)  \n",
    "* [OLS Regression Results](#OLS-Regression-Results)\n",
    "* [Conclusion sur les hypothèses](#Conclusion-sur-les-hypothèses)\n",
    "* [Hypotheses d'inference](#Hypotheses-d'inférence)"
   ]
  },
  {
   "cell_type": "code",
   "execution_count": 1,
   "id": "d30abdf1",
   "metadata": {},
   "outputs": [],
   "source": [
    "import pandas as pd\n",
    "import statsmodels.api as sm \n",
    "from sklearn.model_selection import train_test_split"
   ]
  },
  {
   "cell_type": "code",
   "execution_count": 2,
   "id": "e64a7c96",
   "metadata": {},
   "outputs": [],
   "source": [
    "df = pd.read_csv('silicon_valley_real.txt' , delimiter = \",\")\n",
    "df = df.drop(['Unnamed: 0'], axis=1)\n",
    "df = pd.get_dummies(df, columns=[\"ocean_proximity\"], prefix=[\"encoding\"])\n",
    "df = df.dropna()"
   ]
  },
  {
   "cell_type": "markdown",
   "id": "84c677d5",
   "metadata": {},
   "source": [
    "# Hypotheses d'inférence"
   ]
  },
  {
   "cell_type": "markdown",
   "id": "8c18284e",
   "metadata": {},
   "source": [
    "hypotheses nulle (H0):  \n",
    "  \n",
    "H0 = Les variables ne montre pas de corrélation sur la variable target  \n",
    "H1 = Toute les variables du dataset exerce une corrélation sur la variable target significative"
   ]
  },
  {
   "cell_type": "code",
   "execution_count": 3,
   "id": "c880581b",
   "metadata": {},
   "outputs": [],
   "source": [
    "X = df.drop(['median_house_value'], axis=1)\n",
    "y= df['median_house_value']"
   ]
  },
  {
   "cell_type": "code",
   "execution_count": 4,
   "id": "f5c3737c",
   "metadata": {},
   "outputs": [],
   "source": [
    "X_train, X_test, y_train, y_test = train_test_split(X,y,test_size=0.2,random_state=10)"
   ]
  },
  {
   "cell_type": "code",
   "execution_count": 5,
   "id": "d96fcf9c",
   "metadata": {},
   "outputs": [],
   "source": [
    "model = sm.OLS(y,X)"
   ]
  },
  {
   "cell_type": "code",
   "execution_count": 6,
   "id": "7c487b6d",
   "metadata": {},
   "outputs": [],
   "source": [
    "fit = model.fit()"
   ]
  },
  {
   "cell_type": "markdown",
   "id": "d2b592f7",
   "metadata": {},
   "source": [
    "# Pvalue"
   ]
  },
  {
   "cell_type": "code",
   "execution_count": 7,
   "id": "183a4635",
   "metadata": {},
   "outputs": [
    {
     "data": {
      "text/plain": [
       "longitude              6.222528e-116\n",
       "latitude               2.814921e-109\n",
       "housing_median_age     3.235615e-103\n",
       "total_rooms             6.761843e-13\n",
       "total_bedrooms          3.574451e-37\n",
       "population             2.904017e-218\n",
       "households              1.779660e-10\n",
       "median_income           0.000000e+00\n",
       "encoding_<1H OCEAN     3.667766e-111\n",
       "encoding_INLAND        1.032236e-117\n",
       "encoding_ISLAND         4.492189e-84\n",
       "encoding_NEAR BAY      2.033257e-110\n",
       "encoding_NEAR OCEAN    5.238651e-110\n",
       "dtype: float64"
      ]
     },
     "execution_count": 7,
     "metadata": {},
     "output_type": "execute_result"
    }
   ],
   "source": [
    "fit.pvalues"
   ]
  },
  {
   "cell_type": "markdown",
   "id": "b590f92a",
   "metadata": {},
   "source": [
    "# OLS Regression Results"
   ]
  },
  {
   "cell_type": "code",
   "execution_count": 8,
   "id": "10a4119a",
   "metadata": {},
   "outputs": [
    {
     "data": {
      "text/html": [
       "<table class=\"simpletable\">\n",
       "<caption>OLS Regression Results</caption>\n",
       "<tr>\n",
       "  <th>Dep. Variable:</th>    <td>median_house_value</td> <th>  R-squared:         </th>  <td>   0.648</td>  \n",
       "</tr>\n",
       "<tr>\n",
       "  <th>Model:</th>                    <td>OLS</td>        <th>  Adj. R-squared:    </th>  <td>   0.647</td>  \n",
       "</tr>\n",
       "<tr>\n",
       "  <th>Method:</th>              <td>Least Squares</td>   <th>  F-statistic:       </th>  <td>   2501.</td>  \n",
       "</tr>\n",
       "<tr>\n",
       "  <th>Date:</th>              <td>Fri, 24 Sep 2021</td>  <th>  Prob (F-statistic):</th>   <td>  0.00</td>   \n",
       "</tr>\n",
       "<tr>\n",
       "  <th>Time:</th>                  <td>11:59:59</td>      <th>  Log-Likelihood:    </th> <td>-2.0505e+05</td>\n",
       "</tr>\n",
       "<tr>\n",
       "  <th>No. Observations:</th>       <td> 16336</td>       <th>  AIC:               </th>  <td>4.101e+05</td> \n",
       "</tr>\n",
       "<tr>\n",
       "  <th>Df Residuals:</th>           <td> 16323</td>       <th>  BIC:               </th>  <td>4.102e+05</td> \n",
       "</tr>\n",
       "<tr>\n",
       "  <th>Df Model:</th>               <td>    12</td>       <th>                     </th>      <td> </td>     \n",
       "</tr>\n",
       "<tr>\n",
       "  <th>Covariance Type:</th>       <td>nonrobust</td>     <th>                     </th>      <td> </td>     \n",
       "</tr>\n",
       "</table>\n",
       "<table class=\"simpletable\">\n",
       "<tr>\n",
       "           <td></td>              <th>coef</th>     <th>std err</th>      <th>t</th>      <th>P>|t|</th>  <th>[0.025</th>    <th>0.975]</th>  \n",
       "</tr>\n",
       "<tr>\n",
       "  <th>longitude</th>           <td>-2.625e+04</td> <td> 1137.554</td> <td>  -23.072</td> <td> 0.000</td> <td>-2.85e+04</td> <td> -2.4e+04</td>\n",
       "</tr>\n",
       "<tr>\n",
       "  <th>latitude</th>            <td>-2.505e+04</td> <td> 1119.507</td> <td>  -22.378</td> <td> 0.000</td> <td>-2.72e+04</td> <td>-2.29e+04</td>\n",
       "</tr>\n",
       "<tr>\n",
       "  <th>housing_median_age</th>  <td> 1062.7486</td> <td>   48.912</td> <td>   21.728</td> <td> 0.000</td> <td>  966.876</td> <td> 1158.621</td>\n",
       "</tr>\n",
       "<tr>\n",
       "  <th>total_rooms</th>         <td>   -6.3275</td> <td>    0.880</td> <td>   -7.190</td> <td> 0.000</td> <td>   -8.053</td> <td>   -4.603</td>\n",
       "</tr>\n",
       "<tr>\n",
       "  <th>total_bedrooms</th>      <td>   97.7789</td> <td>    7.656</td> <td>   12.771</td> <td> 0.000</td> <td>   82.772</td> <td>  112.786</td>\n",
       "</tr>\n",
       "<tr>\n",
       "  <th>population</th>          <td>  -37.4047</td> <td>    1.168</td> <td>  -32.022</td> <td> 0.000</td> <td>  -39.694</td> <td>  -35.115</td>\n",
       "</tr>\n",
       "<tr>\n",
       "  <th>households</th>          <td>   52.7680</td> <td>    8.267</td> <td>    6.383</td> <td> 0.000</td> <td>   36.565</td> <td>   68.971</td>\n",
       "</tr>\n",
       "<tr>\n",
       "  <th>median_income</th>       <td> 3.928e+04</td> <td>  379.491</td> <td>  103.518</td> <td> 0.000</td> <td> 3.85e+04</td> <td>    4e+04</td>\n",
       "</tr>\n",
       "<tr>\n",
       "  <th>encoding_<1H OCEAN</th>  <td>-2.217e+06</td> <td> 9.82e+04</td> <td>  -22.577</td> <td> 0.000</td> <td>-2.41e+06</td> <td>-2.02e+06</td>\n",
       "</tr>\n",
       "<tr>\n",
       "  <th>encoding_INLAND</th>     <td>-2.257e+06</td> <td> 9.71e+04</td> <td>  -23.255</td> <td> 0.000</td> <td>-2.45e+06</td> <td>-2.07e+06</td>\n",
       "</tr>\n",
       "<tr>\n",
       "  <th>encoding_ISLAND</th>     <td>-2.048e+06</td> <td> 1.05e+05</td> <td>  -19.541</td> <td> 0.000</td> <td>-2.25e+06</td> <td>-1.84e+06</td>\n",
       "</tr>\n",
       "<tr>\n",
       "  <th>encoding_NEAR BAY</th>   <td>-2.221e+06</td> <td> 9.87e+04</td> <td>  -22.499</td> <td> 0.000</td> <td>-2.41e+06</td> <td>-2.03e+06</td>\n",
       "</tr>\n",
       "<tr>\n",
       "  <th>encoding_NEAR OCEAN</th> <td>-2.214e+06</td> <td> 9.86e+04</td> <td>  -22.455</td> <td> 0.000</td> <td>-2.41e+06</td> <td>-2.02e+06</td>\n",
       "</tr>\n",
       "</table>\n",
       "<table class=\"simpletable\">\n",
       "<tr>\n",
       "  <th>Omnibus:</th>       <td>4010.006</td> <th>  Durbin-Watson:     </th> <td>   1.974</td> \n",
       "</tr>\n",
       "<tr>\n",
       "  <th>Prob(Omnibus):</th>  <td> 0.000</td>  <th>  Jarque-Bera (JB):  </th> <td>15389.334</td>\n",
       "</tr>\n",
       "<tr>\n",
       "  <th>Skew:</th>           <td> 1.184</td>  <th>  Prob(JB):          </th> <td>    0.00</td> \n",
       "</tr>\n",
       "<tr>\n",
       "  <th>Kurtosis:</th>       <td> 7.124</td>  <th>  Cond. No.          </th> <td>1.64e+06</td> \n",
       "</tr>\n",
       "</table><br/><br/>Notes:<br/>[1] Standard Errors assume that the covariance matrix of the errors is correctly specified.<br/>[2] The condition number is large, 1.64e+06. This might indicate that there are<br/>strong multicollinearity or other numerical problems."
      ],
      "text/plain": [
       "<class 'statsmodels.iolib.summary.Summary'>\n",
       "\"\"\"\n",
       "                            OLS Regression Results                            \n",
       "==============================================================================\n",
       "Dep. Variable:     median_house_value   R-squared:                       0.648\n",
       "Model:                            OLS   Adj. R-squared:                  0.647\n",
       "Method:                 Least Squares   F-statistic:                     2501.\n",
       "Date:                Fri, 24 Sep 2021   Prob (F-statistic):               0.00\n",
       "Time:                        11:59:59   Log-Likelihood:            -2.0505e+05\n",
       "No. Observations:               16336   AIC:                         4.101e+05\n",
       "Df Residuals:                   16323   BIC:                         4.102e+05\n",
       "Df Model:                          12                                         \n",
       "Covariance Type:            nonrobust                                         \n",
       "=======================================================================================\n",
       "                          coef    std err          t      P>|t|      [0.025      0.975]\n",
       "---------------------------------------------------------------------------------------\n",
       "longitude           -2.625e+04   1137.554    -23.072      0.000   -2.85e+04    -2.4e+04\n",
       "latitude            -2.505e+04   1119.507    -22.378      0.000   -2.72e+04   -2.29e+04\n",
       "housing_median_age   1062.7486     48.912     21.728      0.000     966.876    1158.621\n",
       "total_rooms            -6.3275      0.880     -7.190      0.000      -8.053      -4.603\n",
       "total_bedrooms         97.7789      7.656     12.771      0.000      82.772     112.786\n",
       "population            -37.4047      1.168    -32.022      0.000     -39.694     -35.115\n",
       "households             52.7680      8.267      6.383      0.000      36.565      68.971\n",
       "median_income        3.928e+04    379.491    103.518      0.000    3.85e+04       4e+04\n",
       "encoding_<1H OCEAN  -2.217e+06   9.82e+04    -22.577      0.000   -2.41e+06   -2.02e+06\n",
       "encoding_INLAND     -2.257e+06   9.71e+04    -23.255      0.000   -2.45e+06   -2.07e+06\n",
       "encoding_ISLAND     -2.048e+06   1.05e+05    -19.541      0.000   -2.25e+06   -1.84e+06\n",
       "encoding_NEAR BAY   -2.221e+06   9.87e+04    -22.499      0.000   -2.41e+06   -2.03e+06\n",
       "encoding_NEAR OCEAN -2.214e+06   9.86e+04    -22.455      0.000   -2.41e+06   -2.02e+06\n",
       "==============================================================================\n",
       "Omnibus:                     4010.006   Durbin-Watson:                   1.974\n",
       "Prob(Omnibus):                  0.000   Jarque-Bera (JB):            15389.334\n",
       "Skew:                           1.184   Prob(JB):                         0.00\n",
       "Kurtosis:                       7.124   Cond. No.                     1.64e+06\n",
       "==============================================================================\n",
       "\n",
       "Notes:\n",
       "[1] Standard Errors assume that the covariance matrix of the errors is correctly specified.\n",
       "[2] The condition number is large, 1.64e+06. This might indicate that there are\n",
       "strong multicollinearity or other numerical problems.\n",
       "\"\"\""
      ]
     },
     "execution_count": 8,
     "metadata": {},
     "output_type": "execute_result"
    }
   ],
   "source": [
    "fit.summary()"
   ]
  },
  {
   "cell_type": "markdown",
   "id": "ac48206b",
   "metadata": {},
   "source": [
    "# Conclusion sur les hypothèses"
   ]
  },
  {
   "cell_type": "markdown",
   "id": "8e26f0bc",
   "metadata": {},
   "source": [
    "D'après statsmodels il y a une forte multicollinéarité entre nos features.  \n",
    "housing_median_age, total_bedrooms et households  ont le coef le plus élevés donc meilleure collération avec median_house_value "
   ]
  },
  {
   "cell_type": "markdown",
   "id": "1c1e4570",
   "metadata": {},
   "source": [
    "La pvalue de nos variables est inférieur à 0.05 on peut donc rejetter H0"
   ]
  }
 ],
 "metadata": {
  "kernelspec": {
   "display_name": "Python 3",
   "language": "python",
   "name": "python3"
  },
  "language_info": {
   "codemirror_mode": {
    "name": "ipython",
    "version": 3
   },
   "file_extension": ".py",
   "mimetype": "text/x-python",
   "name": "python",
   "nbconvert_exporter": "python",
   "pygments_lexer": "ipython3",
   "version": "3.8.8"
  }
 },
 "nbformat": 4,
 "nbformat_minor": 5
}
