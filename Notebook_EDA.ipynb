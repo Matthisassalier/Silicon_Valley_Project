{
 "cells": [
  {
   "cell_type": "markdown",
   "id": "f4957f2f",
   "metadata": {},
   "source": [
    "# Sommaire"
   ]
  },
  {
   "cell_type": "markdown",
   "id": "b0647a83",
   "metadata": {},
   "source": [
    "* [Contexte du Projet](#Contexte-du-Projet)\n",
    "    * [Description des Données](#Description-des-Données)\n",
    "* [Analyse des données](#Analyse-des-données)  \n",
    "    * [Import des librairies](#Import-des-librairies)\n",
    "    * [Importation du Dataset](#Importation-du-Dataset)\n",
    "    * [Conclusion sur la forme du Dataset](#Conclusion-sur-la-forme-du-dataset)\n",
    "* [Nettoyage des données](#Nettoyage-des-données)\n",
    "    * [Encodage de la variable](#Encodage-de-la-variable-de-type-objet)"
   ]
  },
  {
   "cell_type": "markdown",
   "id": "b1e5cf8e",
   "metadata": {},
   "source": [
    "# Contexte du Projet"
   ]
  },
  {
   "cell_type": "markdown",
   "id": "e67ed6b9",
   "metadata": {},
   "source": [
    "Vous êtes développeur AI dans une startup de la Silicon Valley qui fournit des services dans le domaine de l'investissement immobilier a été . Les chargés de relation client ont mentionné que la demande a augmenté récemment et qu'il devient difficile de faire des estimations personnalisées. De ce fait, l'entreprise vous a confier d'automatiser cette tâche avec un modèle prédictif.\n",
    "\n",
    "Pour cela, vous avez récupéré une base de données qui contient les prix médians des logements pour les districts de Californie issus du recensement de 1990 :"
   ]
  },
  {
   "cell_type": "markdown",
   "id": "d9107566",
   "metadata": {},
   "source": [
    "# Description des Données"
   ]
  },
  {
   "cell_type": "markdown",
   "id": "b0d27826",
   "metadata": {},
   "source": [
    "1) longitude  \n",
    "\n",
    "2) latitude  \n",
    "\n",
    "3) housingMedianAge: Âge médian d'une maison dans un pâté de maisons ; un chiffre plus bas correspond à un bâtiment plus récent.  \n",
    "\n",
    "4) totalRooms: Nombre total de chambres dans un bloc  \n",
    "\n",
    "5) totalBedrooms: Nombre total de chambres dans un bloc  \n",
    "\n",
    "4) population: Nombre total de personnes résidant dans un bloc  \n",
    "\n",
    "5) households: Nombre total de ménages, c'est-à-dire un groupe de personnes résidant dans une unité d'habitation, pour un bloc  \n",
    "\n",
    "6) medianIncome: Revenu médian des ménages dans un bloc de maisons (mesuré en dizaines de milliers de dollars US)  \n",
    "\n",
    "7) medianHouseValue: Valeur médiane des maisons pour les ménages d'un bloc (mesurée en dollars US)  \n",
    "\n",
    "8) oceanProximity: Situation de la maison par rapport à la mer"
   ]
  },
  {
   "cell_type": "markdown",
   "id": "5b109a2e",
   "metadata": {},
   "source": [
    "# Analyse des données"
   ]
  },
  {
   "cell_type": "markdown",
   "id": "f5471251",
   "metadata": {},
   "source": [
    "# Import des librairies"
   ]
  },
  {
   "cell_type": "code",
   "execution_count": 1,
   "id": "f0b82013",
   "metadata": {},
   "outputs": [],
   "source": [
    "import numpy as np\n",
    "import pandas as pd\n",
    "import matplotlib.pyplot as plt\n",
    "from sklearn.linear_model import LinearRegression\n",
    "import seaborn as sns\n",
    "from sklearn.impute import MissingIndicator \n",
    "from sklearn.model_selection import train_test_split\n",
    "from sklearn.neighbors import KNeighborsRegressor"
   ]
  },
  {
   "cell_type": "markdown",
   "id": "f4cddb96",
   "metadata": {},
   "source": [
    "# Importation du Dataset"
   ]
  },
  {
   "cell_type": "markdown",
   "id": "d65c4163",
   "metadata": {},
   "source": [
    "Première apperçu du Dataset"
   ]
  },
  {
   "cell_type": "code",
   "execution_count": 2,
   "id": "c8db67c0",
   "metadata": {},
   "outputs": [
    {
     "data": {
      "text/html": [
       "<div>\n",
       "<style scoped>\n",
       "    .dataframe tbody tr th:only-of-type {\n",
       "        vertical-align: middle;\n",
       "    }\n",
       "\n",
       "    .dataframe tbody tr th {\n",
       "        vertical-align: top;\n",
       "    }\n",
       "\n",
       "    .dataframe thead th {\n",
       "        text-align: right;\n",
       "    }\n",
       "</style>\n",
       "<table border=\"1\" class=\"dataframe\">\n",
       "  <thead>\n",
       "    <tr style=\"text-align: right;\">\n",
       "      <th></th>\n",
       "      <th>Unnamed: 0</th>\n",
       "      <th>longitude</th>\n",
       "      <th>latitude</th>\n",
       "      <th>housing_median_age</th>\n",
       "      <th>total_rooms</th>\n",
       "      <th>total_bedrooms</th>\n",
       "      <th>population</th>\n",
       "      <th>households</th>\n",
       "      <th>median_income</th>\n",
       "      <th>median_house_value</th>\n",
       "      <th>ocean_proximity</th>\n",
       "    </tr>\n",
       "  </thead>\n",
       "  <tbody>\n",
       "    <tr>\n",
       "      <th>0</th>\n",
       "      <td>2072</td>\n",
       "      <td>-119.84</td>\n",
       "      <td>36.77</td>\n",
       "      <td>6.0</td>\n",
       "      <td>1853.0</td>\n",
       "      <td>473.0</td>\n",
       "      <td>1397.0</td>\n",
       "      <td>417.0</td>\n",
       "      <td>1.4817</td>\n",
       "      <td>72000.0</td>\n",
       "      <td>INLAND</td>\n",
       "    </tr>\n",
       "    <tr>\n",
       "      <th>1</th>\n",
       "      <td>10600</td>\n",
       "      <td>-117.80</td>\n",
       "      <td>33.68</td>\n",
       "      <td>8.0</td>\n",
       "      <td>2032.0</td>\n",
       "      <td>349.0</td>\n",
       "      <td>862.0</td>\n",
       "      <td>340.0</td>\n",
       "      <td>6.9133</td>\n",
       "      <td>274100.0</td>\n",
       "      <td>&lt;1H OCEAN</td>\n",
       "    </tr>\n",
       "    <tr>\n",
       "      <th>2</th>\n",
       "      <td>2494</td>\n",
       "      <td>-120.19</td>\n",
       "      <td>36.60</td>\n",
       "      <td>25.0</td>\n",
       "      <td>875.0</td>\n",
       "      <td>214.0</td>\n",
       "      <td>931.0</td>\n",
       "      <td>214.0</td>\n",
       "      <td>1.5536</td>\n",
       "      <td>58300.0</td>\n",
       "      <td>INLAND</td>\n",
       "    </tr>\n",
       "    <tr>\n",
       "      <th>3</th>\n",
       "      <td>4284</td>\n",
       "      <td>-118.32</td>\n",
       "      <td>34.10</td>\n",
       "      <td>31.0</td>\n",
       "      <td>622.0</td>\n",
       "      <td>229.0</td>\n",
       "      <td>597.0</td>\n",
       "      <td>227.0</td>\n",
       "      <td>1.5284</td>\n",
       "      <td>200000.0</td>\n",
       "      <td>&lt;1H OCEAN</td>\n",
       "    </tr>\n",
       "    <tr>\n",
       "      <th>4</th>\n",
       "      <td>16541</td>\n",
       "      <td>-121.23</td>\n",
       "      <td>37.79</td>\n",
       "      <td>21.0</td>\n",
       "      <td>1922.0</td>\n",
       "      <td>373.0</td>\n",
       "      <td>1130.0</td>\n",
       "      <td>372.0</td>\n",
       "      <td>4.0815</td>\n",
       "      <td>117900.0</td>\n",
       "      <td>INLAND</td>\n",
       "    </tr>\n",
       "  </tbody>\n",
       "</table>\n",
       "</div>"
      ],
      "text/plain": [
       "   Unnamed: 0  longitude  latitude  housing_median_age  total_rooms  \\\n",
       "0        2072    -119.84     36.77                 6.0       1853.0   \n",
       "1       10600    -117.80     33.68                 8.0       2032.0   \n",
       "2        2494    -120.19     36.60                25.0        875.0   \n",
       "3        4284    -118.32     34.10                31.0        622.0   \n",
       "4       16541    -121.23     37.79                21.0       1922.0   \n",
       "\n",
       "   total_bedrooms  population  households  median_income  median_house_value  \\\n",
       "0           473.0      1397.0       417.0         1.4817             72000.0   \n",
       "1           349.0       862.0       340.0         6.9133            274100.0   \n",
       "2           214.0       931.0       214.0         1.5536             58300.0   \n",
       "3           229.0       597.0       227.0         1.5284            200000.0   \n",
       "4           373.0      1130.0       372.0         4.0815            117900.0   \n",
       "\n",
       "  ocean_proximity  \n",
       "0          INLAND  \n",
       "1       <1H OCEAN  \n",
       "2          INLAND  \n",
       "3       <1H OCEAN  \n",
       "4          INLAND  "
      ]
     },
     "execution_count": 2,
     "metadata": {},
     "output_type": "execute_result"
    }
   ],
   "source": [
    "df = pd.read_csv('silicon_valley_real.txt' , delimiter = \",\")\n",
    "df.head()"
   ]
  },
  {
   "cell_type": "markdown",
   "id": "937a4af1",
   "metadata": {},
   "source": [
    "# Exploration des données"
   ]
  },
  {
   "cell_type": "code",
   "execution_count": 3,
   "id": "d92473f5",
   "metadata": {},
   "outputs": [
    {
     "data": {
      "text/plain": [
       "(16512, 11)"
      ]
     },
     "execution_count": 3,
     "metadata": {},
     "output_type": "execute_result"
    }
   ],
   "source": [
    "df.shape"
   ]
  },
  {
   "cell_type": "markdown",
   "id": "0c80a81e",
   "metadata": {},
   "source": [
    "Regardons la distribution des types de nos données"
   ]
  },
  {
   "cell_type": "code",
   "execution_count": 4,
   "id": "363e314c",
   "metadata": {},
   "outputs": [
    {
     "data": {
      "text/plain": [
       "Unnamed: 0              int64\n",
       "longitude             float64\n",
       "latitude              float64\n",
       "housing_median_age    float64\n",
       "total_rooms           float64\n",
       "total_bedrooms        float64\n",
       "population            float64\n",
       "households            float64\n",
       "median_income         float64\n",
       "median_house_value    float64\n",
       "ocean_proximity        object\n",
       "dtype: object"
      ]
     },
     "execution_count": 4,
     "metadata": {},
     "output_type": "execute_result"
    }
   ],
   "source": [
    "df.dtypes"
   ]
  },
  {
   "cell_type": "code",
   "execution_count": 5,
   "id": "828675ab",
   "metadata": {},
   "outputs": [
    {
     "data": {
      "text/plain": [
       "<AxesSubplot:ylabel='None'>"
      ]
     },
     "execution_count": 5,
     "metadata": {},
     "output_type": "execute_result"
    },
    {
     "data": {
      "image/png": "[encoded data removed]",
      "text/plain": [
       "<Figure size 432x288 with 1 Axes>"
      ]
     },
     "metadata": {},
     "output_type": "display_data"
    }
   ],
   "source": [
    "df.dtypes.value_counts().plot.pie(autopct = lambda x: str(round(x, 2)) + '%')"
   ]
  },
  {
   "cell_type": "markdown",
   "id": "972c8ac4",
   "metadata": {},
   "source": [
    "On voit que 1 features 'ocean_proximity' est un objet, 'Unnamed: 0' est un entier et le reste des Floats"
   ]
  },
  {
   "cell_type": "code",
   "execution_count": 6,
   "id": "6f9ba758",
   "metadata": {},
   "outputs": [
    {
     "data": {
      "text/plain": [
       "<AxesSubplot:>"
      ]
     },
     "execution_count": 6,
     "metadata": {},
     "output_type": "execute_result"
    },
    {
     "data": {
      "image/png": "[encoded data removed]",
      "text/plain": [
       "<Figure size 1440x720 with 1 Axes>"
      ]
     },
     "metadata": {
      "needs_background": "light"
     },
     "output_type": "display_data"
    }
   ],
   "source": [
    "plt.figure(figsize=(20,10))\n",
    "sns.heatmap(df.isna(), cbar=False)"
   ]
  },
  {
   "cell_type": "code",
   "execution_count": 7,
   "id": "fd199027",
   "metadata": {},
   "outputs": [
    {
     "data": {
      "text/plain": [
       "Unnamed: 0            0.000000\n",
       "longitude             0.000000\n",
       "latitude              0.000000\n",
       "housing_median_age    0.000000\n",
       "total_rooms           0.000000\n",
       "population            0.000000\n",
       "households            0.000000\n",
       "median_income         0.000000\n",
       "median_house_value    0.000000\n",
       "ocean_proximity       0.000000\n",
       "total_bedrooms        0.010659\n",
       "dtype: float64"
      ]
     },
     "execution_count": 7,
     "metadata": {},
     "output_type": "execute_result"
    }
   ],
   "source": [
    "(df.isna().sum()/df.shape[0]).sort_values(ascending=True)"
   ]
  },
  {
   "cell_type": "markdown",
   "id": "001c5b6c",
   "metadata": {},
   "source": [
    "Il apparait que notre Dataset possède des valeurs manquantes dans la colonne \"total_bedrooms\" environ 1%  \n",
    "Nous pouvons donc supprimer ces lignes dont les valeurs manques."
   ]
  },
  {
   "cell_type": "code",
   "execution_count": 8,
   "id": "b14ea1fc",
   "metadata": {},
   "outputs": [
    {
     "data": {
      "text/html": [
       "<div>\n",
       "<style scoped>\n",
       "    .dataframe tbody tr th:only-of-type {\n",
       "        vertical-align: middle;\n",
       "    }\n",
       "\n",
       "    .dataframe tbody tr th {\n",
       "        vertical-align: top;\n",
       "    }\n",
       "\n",
       "    .dataframe thead th {\n",
       "        text-align: right;\n",
       "    }\n",
       "</style>\n",
       "<table border=\"1\" class=\"dataframe\">\n",
       "  <thead>\n",
       "    <tr style=\"text-align: right;\">\n",
       "      <th></th>\n",
       "      <th>Unnamed: 0</th>\n",
       "      <th>longitude</th>\n",
       "      <th>latitude</th>\n",
       "      <th>housing_median_age</th>\n",
       "      <th>total_rooms</th>\n",
       "      <th>total_bedrooms</th>\n",
       "      <th>population</th>\n",
       "      <th>households</th>\n",
       "      <th>median_income</th>\n",
       "      <th>median_house_value</th>\n",
       "    </tr>\n",
       "  </thead>\n",
       "  <tbody>\n",
       "    <tr>\n",
       "      <th>count</th>\n",
       "      <td>16512.000000</td>\n",
       "      <td>16512.000000</td>\n",
       "      <td>16512.000000</td>\n",
       "      <td>16512.000000</td>\n",
       "      <td>16512.000000</td>\n",
       "      <td>16336.000000</td>\n",
       "      <td>16512.000000</td>\n",
       "      <td>16512.000000</td>\n",
       "      <td>16512.000000</td>\n",
       "      <td>16512.000000</td>\n",
       "    </tr>\n",
       "    <tr>\n",
       "      <th>mean</th>\n",
       "      <td>10295.498789</td>\n",
       "      <td>-119.564046</td>\n",
       "      <td>35.626523</td>\n",
       "      <td>28.624516</td>\n",
       "      <td>2644.170603</td>\n",
       "      <td>539.319540</td>\n",
       "      <td>1435.017260</td>\n",
       "      <td>501.135962</td>\n",
       "      <td>3.864091</td>\n",
       "      <td>206509.251453</td>\n",
       "    </tr>\n",
       "    <tr>\n",
       "      <th>std</th>\n",
       "      <td>5941.973488</td>\n",
       "      <td>2.005033</td>\n",
       "      <td>2.139150</td>\n",
       "      <td>12.597980</td>\n",
       "      <td>2213.946369</td>\n",
       "      <td>425.207704</td>\n",
       "      <td>1158.151967</td>\n",
       "      <td>385.650673</td>\n",
       "      <td>1.893244</td>\n",
       "      <td>115225.957661</td>\n",
       "    </tr>\n",
       "    <tr>\n",
       "      <th>min</th>\n",
       "      <td>0.000000</td>\n",
       "      <td>-124.350000</td>\n",
       "      <td>32.540000</td>\n",
       "      <td>1.000000</td>\n",
       "      <td>6.000000</td>\n",
       "      <td>2.000000</td>\n",
       "      <td>3.000000</td>\n",
       "      <td>2.000000</td>\n",
       "      <td>0.499900</td>\n",
       "      <td>14999.000000</td>\n",
       "    </tr>\n",
       "    <tr>\n",
       "      <th>25%</th>\n",
       "      <td>5178.750000</td>\n",
       "      <td>-121.790000</td>\n",
       "      <td>33.930000</td>\n",
       "      <td>18.000000</td>\n",
       "      <td>1446.000000</td>\n",
       "      <td>296.000000</td>\n",
       "      <td>788.000000</td>\n",
       "      <td>280.000000</td>\n",
       "      <td>2.562500</td>\n",
       "      <td>119400.000000</td>\n",
       "    </tr>\n",
       "    <tr>\n",
       "      <th>50%</th>\n",
       "      <td>10263.500000</td>\n",
       "      <td>-118.490000</td>\n",
       "      <td>34.250000</td>\n",
       "      <td>29.000000</td>\n",
       "      <td>2116.000000</td>\n",
       "      <td>435.000000</td>\n",
       "      <td>1168.000000</td>\n",
       "      <td>410.000000</td>\n",
       "      <td>3.531300</td>\n",
       "      <td>179300.000000</td>\n",
       "    </tr>\n",
       "    <tr>\n",
       "      <th>75%</th>\n",
       "      <td>15438.250000</td>\n",
       "      <td>-118.010000</td>\n",
       "      <td>37.710000</td>\n",
       "      <td>37.000000</td>\n",
       "      <td>3154.000000</td>\n",
       "      <td>647.000000</td>\n",
       "      <td>1738.000000</td>\n",
       "      <td>606.000000</td>\n",
       "      <td>4.733225</td>\n",
       "      <td>264500.000000</td>\n",
       "    </tr>\n",
       "    <tr>\n",
       "      <th>max</th>\n",
       "      <td>20639.000000</td>\n",
       "      <td>-114.310000</td>\n",
       "      <td>41.950000</td>\n",
       "      <td>52.000000</td>\n",
       "      <td>39320.000000</td>\n",
       "      <td>6445.000000</td>\n",
       "      <td>35682.000000</td>\n",
       "      <td>6082.000000</td>\n",
       "      <td>15.000100</td>\n",
       "      <td>500001.000000</td>\n",
       "    </tr>\n",
       "  </tbody>\n",
       "</table>\n",
       "</div>"
      ],
      "text/plain": [
       "         Unnamed: 0     longitude      latitude  housing_median_age  \\\n",
       "count  16512.000000  16512.000000  16512.000000        16512.000000   \n",
       "mean   10295.498789   -119.564046     35.626523           28.624516   \n",
       "std     5941.973488      2.005033      2.139150           12.597980   \n",
       "min        0.000000   -124.350000     32.540000            1.000000   \n",
       "25%     5178.750000   -121.790000     33.930000           18.000000   \n",
       "50%    10263.500000   -118.490000     34.250000           29.000000   \n",
       "75%    15438.250000   -118.010000     37.710000           37.000000   \n",
       "max    20639.000000   -114.310000     41.950000           52.000000   \n",
       "\n",
       "        total_rooms  total_bedrooms    population    households  \\\n",
       "count  16512.000000    16336.000000  16512.000000  16512.000000   \n",
       "mean    2644.170603      539.319540   1435.017260    501.135962   \n",
       "std     2213.946369      425.207704   1158.151967    385.650673   \n",
       "min        6.000000        2.000000      3.000000      2.000000   \n",
       "25%     1446.000000      296.000000    788.000000    280.000000   \n",
       "50%     2116.000000      435.000000   1168.000000    410.000000   \n",
       "75%     3154.000000      647.000000   1738.000000    606.000000   \n",
       "max    39320.000000     6445.000000  35682.000000   6082.000000   \n",
       "\n",
       "       median_income  median_house_value  \n",
       "count   16512.000000        16512.000000  \n",
       "mean        3.864091       206509.251453  \n",
       "std         1.893244       115225.957661  \n",
       "min         0.499900        14999.000000  \n",
       "25%         2.562500       119400.000000  \n",
       "50%         3.531300       179300.000000  \n",
       "75%         4.733225       264500.000000  \n",
       "max        15.000100       500001.000000  "
      ]
     },
     "execution_count": 8,
     "metadata": {},
     "output_type": "execute_result"
    }
   ],
   "source": [
    "df.describe()"
   ]
  },
  {
   "cell_type": "markdown",
   "id": "3d92bd4e",
   "metadata": {},
   "source": [
    "Grâce à ce describe, on remarque de possible outlier pour 'housing_median_age', 'total_rooms', 'total_bedrooms', 'population' et 'households' car leurs valeurd dmax sont très éloigné du 3e quartile."
   ]
  },
  {
   "cell_type": "code",
   "execution_count": 9,
   "id": "b7ac6745",
   "metadata": {},
   "outputs": [
    {
     "data": {
      "text/plain": [
       "0"
      ]
     },
     "execution_count": 9,
     "metadata": {},
     "output_type": "execute_result"
    }
   ],
   "source": [
    "df.duplicated().sum()"
   ]
  },
  {
   "cell_type": "markdown",
   "id": "0453c4a4",
   "metadata": {},
   "source": [
    "Aucune donnée n'est dupliquée"
   ]
  },
  {
   "cell_type": "markdown",
   "id": "2a60136c",
   "metadata": {},
   "source": [
    "# Détection des Outliers"
   ]
  },
  {
   "cell_type": "code",
   "execution_count": 10,
   "id": "4ad9edb0",
   "metadata": {},
   "outputs": [
    {
     "data": {
      "image/png": "[encoded data removed]",
      "text/plain": [
       "<Figure size 864x864 with 16 Axes>"
      ]
     },
     "metadata": {
      "needs_background": "light"
     },
     "output_type": "display_data"
    }
   ],
   "source": [
    "df.plot(kind='box', subplots=True, layout=(4, 4), figsize = (12, 12));"
   ]
  },
  {
   "cell_type": "markdown",
   "id": "af624c26",
   "metadata": {},
   "source": [
    "On remarque des outliers pour certains features. Mais il n'est pas abérant d'avoir de forte population à certain endroit avec de gros revenu  ou des batiments très chere avec beaucoup de pièce et beaucoup de chambre. "
   ]
  },
  {
   "cell_type": "markdown",
   "id": "296731a0",
   "metadata": {},
   "source": [
    "# Conclusion sur la forme du dataset"
   ]
  },
  {
   "cell_type": "markdown",
   "id": "f70df167",
   "metadata": {},
   "source": [
    "variable target : median_house_value  \n",
    "lignes et colonnes : 16512, 11  \n",
    "types de variables : 81% float, 9% object, 9% Float  \n",
    "Analyse des valeurs manquantes : Peu de valeur manquante 1% sur total_bedrooms  \n",
    "  \n",
    "Nous devrons donc enlever les valeurs manquantes car celle ci sont dérisoires comparé à la taille du Dataset  \n",
    "Il faudra encoder le feature 'ocean_proximity' ce dernier étant de type qualitative  \n",
    "Un risque d'outlier important sur certaine variable. Cela étant, il s'agit de valeur propre à un dataset immobilier.  \n",
    "Il n'est pas abérant qu'un habitation possède beaucoup de pièce/chambre ou qu'un prix d'une habitation soit énorme.  \n",
    "Nous devrons surement garder ces outliers.\n"
   ]
  },
  {
   "cell_type": "markdown",
   "id": "e30d5c19",
   "metadata": {},
   "source": [
    "# Nettoyage des données"
   ]
  },
  {
   "cell_type": "markdown",
   "id": "cebf7b28",
   "metadata": {},
   "source": [
    "Nous allons supprimer les valeurs manquantes "
   ]
  },
  {
   "cell_type": "code",
   "execution_count": 11,
   "id": "b2c01d62",
   "metadata": {},
   "outputs": [],
   "source": [
    "df = df.dropna()"
   ]
  },
  {
   "cell_type": "code",
   "execution_count": 12,
   "id": "70d2e57d",
   "metadata": {},
   "outputs": [
    {
     "data": {
      "text/plain": [
       "Unnamed: 0            0\n",
       "longitude             0\n",
       "latitude              0\n",
       "housing_median_age    0\n",
       "total_rooms           0\n",
       "total_bedrooms        0\n",
       "population            0\n",
       "households            0\n",
       "median_income         0\n",
       "median_house_value    0\n",
       "ocean_proximity       0\n",
       "dtype: int64"
      ]
     },
     "execution_count": 12,
     "metadata": {},
     "output_type": "execute_result"
    }
   ],
   "source": [
    "df.isnull().sum()"
   ]
  },
  {
   "cell_type": "markdown",
   "id": "3f020d0c",
   "metadata": {},
   "source": [
    "On supprime la colonne inutile qui pourrait fausser notre future modèle"
   ]
  },
  {
   "cell_type": "code",
   "execution_count": 13,
   "id": "74363dd1",
   "metadata": {},
   "outputs": [],
   "source": [
    "df = df.drop(['Unnamed: 0'], axis=1)"
   ]
  },
  {
   "cell_type": "markdown",
   "id": "e76450db",
   "metadata": {},
   "source": [
    "# Encodage de la variable de type objet"
   ]
  },
  {
   "cell_type": "markdown",
   "id": "a684c699",
   "metadata": {},
   "source": [
    "On utilise la fonction get_dummies pour encoder la variable \"ocean_proximity\""
   ]
  },
  {
   "cell_type": "code",
   "execution_count": 14,
   "id": "2b3348a5",
   "metadata": {},
   "outputs": [],
   "source": [
    "df = pd.get_dummies(df, columns=[\"ocean_proximity\"], prefix=[\"encoding\"])"
   ]
  },
  {
   "cell_type": "code",
   "execution_count": 15,
   "id": "261f56ae",
   "metadata": {},
   "outputs": [
    {
     "data": {
      "text/html": [
       "<div>\n",
       "<style scoped>\n",
       "    .dataframe tbody tr th:only-of-type {\n",
       "        vertical-align: middle;\n",
       "    }\n",
       "\n",
       "    .dataframe tbody tr th {\n",
       "        vertical-align: top;\n",
       "    }\n",
       "\n",
       "    .dataframe thead th {\n",
       "        text-align: right;\n",
       "    }\n",
       "</style>\n",
       "<table border=\"1\" class=\"dataframe\">\n",
       "  <thead>\n",
       "    <tr style=\"text-align: right;\">\n",
       "      <th></th>\n",
       "      <th>longitude</th>\n",
       "      <th>latitude</th>\n",
       "      <th>housing_median_age</th>\n",
       "      <th>total_rooms</th>\n",
       "      <th>total_bedrooms</th>\n",
       "      <th>population</th>\n",
       "      <th>households</th>\n",
       "      <th>median_income</th>\n",
       "      <th>median_house_value</th>\n",
       "      <th>encoding_&lt;1H OCEAN</th>\n",
       "      <th>encoding_INLAND</th>\n",
       "      <th>encoding_ISLAND</th>\n",
       "      <th>encoding_NEAR BAY</th>\n",
       "      <th>encoding_NEAR OCEAN</th>\n",
       "    </tr>\n",
       "  </thead>\n",
       "  <tbody>\n",
       "    <tr>\n",
       "      <th>0</th>\n",
       "      <td>-119.84</td>\n",
       "      <td>36.77</td>\n",
       "      <td>6.0</td>\n",
       "      <td>1853.0</td>\n",
       "      <td>473.0</td>\n",
       "      <td>1397.0</td>\n",
       "      <td>417.0</td>\n",
       "      <td>1.4817</td>\n",
       "      <td>72000.0</td>\n",
       "      <td>0</td>\n",
       "      <td>1</td>\n",
       "      <td>0</td>\n",
       "      <td>0</td>\n",
       "      <td>0</td>\n",
       "    </tr>\n",
       "    <tr>\n",
       "      <th>1</th>\n",
       "      <td>-117.80</td>\n",
       "      <td>33.68</td>\n",
       "      <td>8.0</td>\n",
       "      <td>2032.0</td>\n",
       "      <td>349.0</td>\n",
       "      <td>862.0</td>\n",
       "      <td>340.0</td>\n",
       "      <td>6.9133</td>\n",
       "      <td>274100.0</td>\n",
       "      <td>1</td>\n",
       "      <td>0</td>\n",
       "      <td>0</td>\n",
       "      <td>0</td>\n",
       "      <td>0</td>\n",
       "    </tr>\n",
       "    <tr>\n",
       "      <th>2</th>\n",
       "      <td>-120.19</td>\n",
       "      <td>36.60</td>\n",
       "      <td>25.0</td>\n",
       "      <td>875.0</td>\n",
       "      <td>214.0</td>\n",
       "      <td>931.0</td>\n",
       "      <td>214.0</td>\n",
       "      <td>1.5536</td>\n",
       "      <td>58300.0</td>\n",
       "      <td>0</td>\n",
       "      <td>1</td>\n",
       "      <td>0</td>\n",
       "      <td>0</td>\n",
       "      <td>0</td>\n",
       "    </tr>\n",
       "    <tr>\n",
       "      <th>3</th>\n",
       "      <td>-118.32</td>\n",
       "      <td>34.10</td>\n",
       "      <td>31.0</td>\n",
       "      <td>622.0</td>\n",
       "      <td>229.0</td>\n",
       "      <td>597.0</td>\n",
       "      <td>227.0</td>\n",
       "      <td>1.5284</td>\n",
       "      <td>200000.0</td>\n",
       "      <td>1</td>\n",
       "      <td>0</td>\n",
       "      <td>0</td>\n",
       "      <td>0</td>\n",
       "      <td>0</td>\n",
       "    </tr>\n",
       "    <tr>\n",
       "      <th>4</th>\n",
       "      <td>-121.23</td>\n",
       "      <td>37.79</td>\n",
       "      <td>21.0</td>\n",
       "      <td>1922.0</td>\n",
       "      <td>373.0</td>\n",
       "      <td>1130.0</td>\n",
       "      <td>372.0</td>\n",
       "      <td>4.0815</td>\n",
       "      <td>117900.0</td>\n",
       "      <td>0</td>\n",
       "      <td>1</td>\n",
       "      <td>0</td>\n",
       "      <td>0</td>\n",
       "      <td>0</td>\n",
       "    </tr>\n",
       "  </tbody>\n",
       "</table>\n",
       "</div>"
      ],
      "text/plain": [
       "   longitude  latitude  housing_median_age  total_rooms  total_bedrooms  \\\n",
       "0    -119.84     36.77                 6.0       1853.0           473.0   \n",
       "1    -117.80     33.68                 8.0       2032.0           349.0   \n",
       "2    -120.19     36.60                25.0        875.0           214.0   \n",
       "3    -118.32     34.10                31.0        622.0           229.0   \n",
       "4    -121.23     37.79                21.0       1922.0           373.0   \n",
       "\n",
       "   population  households  median_income  median_house_value  \\\n",
       "0      1397.0       417.0         1.4817             72000.0   \n",
       "1       862.0       340.0         6.9133            274100.0   \n",
       "2       931.0       214.0         1.5536             58300.0   \n",
       "3       597.0       227.0         1.5284            200000.0   \n",
       "4      1130.0       372.0         4.0815            117900.0   \n",
       "\n",
       "   encoding_<1H OCEAN  encoding_INLAND  encoding_ISLAND  encoding_NEAR BAY  \\\n",
       "0                   0                1                0                  0   \n",
       "1                   1                0                0                  0   \n",
       "2                   0                1                0                  0   \n",
       "3                   1                0                0                  0   \n",
       "4                   0                1                0                  0   \n",
       "\n",
       "   encoding_NEAR OCEAN  \n",
       "0                    0  \n",
       "1                    0  \n",
       "2                    0  \n",
       "3                    0  \n",
       "4                    0  "
      ]
     },
     "execution_count": 15,
     "metadata": {},
     "output_type": "execute_result"
    }
   ],
   "source": [
    "df.head()"
   ]
  }
 ],
 "metadata": {
  "kernelspec": {
   "display_name": "Python 3",
   "language": "python",
   "name": "python3"
  },
  "language_info": {
   "codemirror_mode": {
    "name": "ipython",
    "version": 3
   },
   "file_extension": ".py",
   "mimetype": "text/x-python",
   "name": "python",
   "nbconvert_exporter": "python",
   "pygments_lexer": "ipython3",
   "version": "3.8.8"
  }
 },
 "nbformat": 4,
 "nbformat_minor": 5
}
