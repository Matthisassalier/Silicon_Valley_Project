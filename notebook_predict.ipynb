{
 "cells": [
  {
   "cell_type": "markdown",
   "id": "e1e4aeb0",
   "metadata": {},
   "source": [
    "# Notebook_predict                                                                                        Matthis "
   ]
  },
  {
   "cell_type": "markdown",
   "id": "c8af5002",
   "metadata": {},
   "source": [
    "# Sommaire"
   ]
  },
  {
   "cell_type": "markdown",
   "id": "b9f73001",
   "metadata": {},
   "source": [
    "* [Présentation du NoteBook](#Présentation-du-NoteBook)\n",
    "* [Import des Librairies](#Import-des-librairies)\n",
    "* [Model de K-means](#Model-de-K-means)\n",
    "* [Entrainement du modèle](#Entrainement-du-modèle)\n",
    "* [Scaling des données](#Scaling-des-données)\n",
    "* [Création des variables d'entrainement](#Création-des-variables-d'entrainement)\n",
    "* [Modèle du KNN](#Modèle-du-KNN)"
   ]
  },
  {
   "cell_type": "markdown",
   "id": "db3c8040",
   "metadata": {},
   "source": [
    "# Présentation du NoteBook"
   ]
  },
  {
   "cell_type": "markdown",
   "id": "bebb1375",
   "metadata": {},
   "source": [
    "Ce NoteBook contient le modèle de prédiction pour le dossier immobilier de la Silicone valley  \n",
    "Pour realiser ce NoteBook vous aurez besoin d'un dataset de la silicon_valley contenant 11 features  \n",
    "Afin d'utiliser les modèles il vous faudra charger deux fichiers pickle \"kmeans_model.pkl\", \"Knn_model.pkl\" et \"Robust_Scaler\"."
   ]
  },
  {
   "cell_type": "markdown",
   "id": "a3c4509a",
   "metadata": {},
   "source": [
    "# Import des librairies "
   ]
  },
  {
   "cell_type": "code",
   "execution_count": 1,
   "id": "45bea71d",
   "metadata": {},
   "outputs": [],
   "source": [
    "import pickle\n",
    "import numpy as np\n",
    "import pandas as pd\n",
    "from sklearn.model_selection import train_test_split\n",
    "from sklearn.neighbors import KNeighborsRegressor\n",
    "from sklearn.cluster import KMeans\n",
    "from sklearn.preprocessing import RobustScaler\n",
    "from sklearn.metrics import mean_absolute_error, mean_absolute_percentage_error, mean_squared_error"
   ]
  },
  {
   "cell_type": "code",
   "execution_count": 2,
   "id": "a95b3e4b",
   "metadata": {},
   "outputs": [],
   "source": [
    "df = pd.read_csv('C:/Users/mattb/OneDrive/Documents/Simplon/Dataset/silicon_valley_real.txt' , delimiter = \",\")"
   ]
  },
  {
   "cell_type": "markdown",
   "id": "3aaf327a",
   "metadata": {},
   "source": [
    "On drop la colonne 'unnaled: 0\""
   ]
  },
  {
   "cell_type": "code",
   "execution_count": 3,
   "id": "92cfe49a",
   "metadata": {},
   "outputs": [],
   "source": [
    "df = df.drop(['Unnamed: 0'],axis=1)"
   ]
  },
  {
   "cell_type": "markdown",
   "id": "d3ac51ac",
   "metadata": {},
   "source": [
    "On supprime les données manquantes"
   ]
  },
  {
   "cell_type": "code",
   "execution_count": 4,
   "id": "5671be16",
   "metadata": {},
   "outputs": [],
   "source": [
    "df = df.dropna()"
   ]
  },
  {
   "cell_type": "markdown",
   "id": "6d9a6228",
   "metadata": {},
   "source": [
    "Encodage du feature \"ocean_proximity\""
   ]
  },
  {
   "cell_type": "code",
   "execution_count": 5,
   "id": "28762bc5",
   "metadata": {},
   "outputs": [],
   "source": [
    "df = pd.get_dummies(df, columns=[\"ocean_proximity\"], prefix=[\"loc\"])"
   ]
  },
  {
   "cell_type": "markdown",
   "id": "1c5ae0b2",
   "metadata": {},
   "source": [
    "# Model de K-means"
   ]
  },
  {
   "cell_type": "markdown",
   "id": "de5cd5f2",
   "metadata": {},
   "source": [
    "A l'aide du model de K-means nous allons créer une nouvelle feature appelé 'cluster'"
   ]
  },
  {
   "cell_type": "markdown",
   "id": "18c51760",
   "metadata": {},
   "source": [
    "Importer le fichier pickle nommé \"kmeans_model\" "
   ]
  },
  {
   "cell_type": "code",
   "execution_count": 6,
   "id": "87eef897",
   "metadata": {},
   "outputs": [],
   "source": [
    "kmeans_model = pickle.load(open(\"kmeans_model.pkl\",\"rb\"))"
   ]
  },
  {
   "cell_type": "markdown",
   "id": "dc120923",
   "metadata": {},
   "source": [
    "On insère notre nouvelle feature \"cluster\" à notre dataset"
   ]
  },
  {
   "cell_type": "code",
   "execution_count": 7,
   "id": "98233da7",
   "metadata": {},
   "outputs": [],
   "source": [
    "df['cluster'] = kmeans_model"
   ]
  },
  {
   "cell_type": "markdown",
   "id": "38ee81ee",
   "metadata": {},
   "source": [
    "Afin de assouplir notre futur modèle de prediction nous allons encoder cette nouvelle feature 'cluster'"
   ]
  },
  {
   "cell_type": "code",
   "execution_count": 8,
   "id": "bf2addba",
   "metadata": {},
   "outputs": [],
   "source": [
    "df = pd.get_dummies(df, columns=[\"cluster\"], prefix=[\"encoding\"])"
   ]
  },
  {
   "cell_type": "markdown",
   "id": "29991284",
   "metadata": {},
   "source": [
    "# Entrainement du modèle"
   ]
  },
  {
   "cell_type": "markdown",
   "id": "eda2af42",
   "metadata": {},
   "source": [
    "On créait notre target qui est \"median_house_value\" ainsi qu'une variable contenant nos features"
   ]
  },
  {
   "cell_type": "code",
   "execution_count": 9,
   "id": "82bd7b49",
   "metadata": {},
   "outputs": [],
   "source": [
    "X = df.drop(['median_house_value'], axis=1)\n",
    "y= df['median_house_value']"
   ]
  },
  {
   "cell_type": "markdown",
   "id": "39e4ec4c",
   "metadata": {},
   "source": [
    "# Scaling des données"
   ]
  },
  {
   "cell_type": "markdown",
   "id": "bd945d65",
   "metadata": {},
   "source": [
    "Nous utilisons la technique de RobustScaler afin de mettre toute nos features sur la même échelle.  \n",
    "Importer le fichier pickle \"Robust_Scaler.pkl\"."
   ]
  },
  {
   "cell_type": "code",
   "execution_count": 10,
   "id": "c05ac37b",
   "metadata": {},
   "outputs": [],
   "source": [
    "X = pickle.load(open(\"Robust_Scaler.pkl\",\"rb\"))"
   ]
  },
  {
   "cell_type": "markdown",
   "id": "403e1d70",
   "metadata": {},
   "source": [
    "# Création des variables d'entrainement"
   ]
  },
  {
   "cell_type": "code",
   "execution_count": 11,
   "id": "7b0419ea",
   "metadata": {},
   "outputs": [],
   "source": [
    "X_train, X_test, y_train, y_test = train_test_split(X,y,test_size=0.2,random_state=10)"
   ]
  },
  {
   "cell_type": "markdown",
   "id": "2d237208",
   "metadata": {},
   "source": [
    "# Modèle du KNN"
   ]
  },
  {
   "cell_type": "markdown",
   "id": "0056e1ad",
   "metadata": {},
   "source": [
    "Nous utilisons le modèle du KNN afin de prédire nos données"
   ]
  },
  {
   "cell_type": "markdown",
   "id": "da80b780",
   "metadata": {},
   "source": [
    "On charge le fichier pickle nommé \"knn_model\" "
   ]
  },
  {
   "cell_type": "code",
   "execution_count": 12,
   "id": "38d3c8d9",
   "metadata": {},
   "outputs": [],
   "source": [
    "knn = pickle.load(open(\"Knn_model.pkl\",\"rb\"))"
   ]
  },
  {
   "cell_type": "code",
   "execution_count": 13,
   "id": "d5ce1cca",
   "metadata": {},
   "outputs": [
    {
     "data": {
      "text/plain": [
       "0.9027302048310369"
      ]
     },
     "execution_count": 13,
     "metadata": {},
     "output_type": "execute_result"
    }
   ],
   "source": [
    "y_pred=knn.predict(X_test)\n",
    "knn.score(X_test, y_test)"
   ]
  },
  {
   "cell_type": "code",
   "execution_count": 14,
   "id": "c1346aea",
   "metadata": {},
   "outputs": [
    {
     "name": "stdout",
     "output_type": "stream",
     "text": [
      "y_pred min : 49010.0\n",
      "r² score : 0.9027302048310369\n",
      "mae score : 27052.06116891065\n",
      "mae % score : 0.15266842365134736\n",
      "mse score : 1321114591.723987\n",
      "rmse score : 36347.14007626992\n"
     ]
    }
   ],
   "source": [
    "print(f'y_pred min : {y_pred.min()}')\n",
    "print(f'r² score : {knn.score(X_test, y_test)}')\n",
    "print(f'mae score : {mean_absolute_error(y_test, y_pred)}')\n",
    "print(f'mae % score : {mean_absolute_percentage_error(y_test, y_pred)}')\n",
    "print(f'mse score : {mean_squared_error(y_test, y_pred)}')\n",
    "print(f'rmse score : {np.sqrt(mean_squared_error(y_test, y_pred))}')"
   ]
  }
 ],
 "metadata": {
  "kernelspec": {
   "display_name": "Python 3",
   "language": "python",
   "name": "python3"
  },
  "language_info": {
   "codemirror_mode": {
    "name": "ipython",
    "version": 3
   },
   "file_extension": ".py",
   "mimetype": "text/x-python",
   "name": "python",
   "nbconvert_exporter": "python",
   "pygments_lexer": "ipython3",
   "version": "3.8.8"
  }
 },
 "nbformat": 4,
 "nbformat_minor": 5
}
